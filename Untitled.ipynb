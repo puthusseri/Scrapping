{
 "cells": [
  {
   "cell_type": "code",
   "execution_count": 62,
   "metadata": {},
   "outputs": [],
   "source": [
    "import os\n",
    "import re\n",
    "import requests\n",
    "import json\n",
    "import pandas as pd\n",
    "import numpy as np\n",
    "from selenium import webdriver\n",
    "from selenium.webdriver.common.by import By\n",
    "from bs4 import BeautifulSoup as bs4\n",
    "from urllib.request import urlopen\n",
    "from pandas.io.json import json_normalize\n",
    "import time\n",
    "import urllib.request\n",
    "import urllib\n",
    "import csv \n"
   ]
  },
  {
   "cell_type": "markdown",
   "metadata": {},
   "source": [
    "Login to instagram to access the private accounts"
   ]
  },
  {
   "cell_type": "code",
   "execution_count": 105,
   "metadata": {},
   "outputs": [],
   "source": [
    "#Put the details in the variable\n",
    "\n",
    "username = \"\"\n",
    "passwd = \"\"\n",
    "target = \"\"\n",
    "isExist = os.path.exists(target)\n",
    "if not isExist:\n",
    "    os.mkdir(target)\n",
    "browser = browser = webdriver.Chrome()\n",
    "browser.get('https://www.instagram.com/')\n",
    "time.sleep(3)\n",
    "browser.find_element(\"name\",\"username\").send_keys(username)\n",
    "browser.find_element(\"name\",\"password\").send_keys(passwd)\n",
    "time.sleep(3)\n",
    "browser.find_element(By.CSS_SELECTOR,\"._acan._acap._acas\").click() # click login button\n",
    "time.sleep(3)"
   ]
  },
  {
   "cell_type": "markdown",
   "metadata": {},
   "source": [
    "Scrol one by one and identify the links to the posts"
   ]
  },
  {
   "cell_type": "code",
   "execution_count": 69,
   "metadata": {},
   "outputs": [
    {
     "name": "stdout",
     "output_type": "stream",
     "text": [
      "Scrolling\n"
     ]
    }
   ],
   "source": [
    "browser.get('https://www.instagram.com/'+target)\n",
    "time.sleep(3)\n",
    "last_height = browser.execute_script(\"return document.body.scrollHeight\")\n",
    "print(\"Scrolling\")\n",
    "links=[]\n",
    "while True:\n",
    "    # copy the current links\n",
    "    try:\n",
    "        source = browser.page_source\n",
    "        data=bs4(source, 'html.parser')\n",
    "        body = data.find('body')\n",
    "        mydiv = body.find(\"article\", {\"class\": \"x1iyjqo2\"})\n",
    "        for link in mydiv.findAll('a'):\n",
    "            if re.match(\"/p\", link.get('href')):\n",
    "                links.append('https://www.instagram.com'+link.get('href'))\n",
    "    except Exception as e:\n",
    "        print(e)\n",
    "    # Scroll down to the bottom.\n",
    "    browser.execute_script(\"window.scrollTo(0, document.body.scrollHeight);\")\n",
    "    # Wait to load the page.\n",
    "    time.sleep(3)\n",
    "    # Calculate new scroll height and compare with last scroll height.\n",
    "    new_height = browser.execute_script(\"return document.body.scrollHeight\")\n",
    "    if new_height == last_height:\n",
    "        break\n",
    "    last_height = new_height\n",
    "\n",
    "    "
   ]
  },
  {
   "cell_type": "markdown",
   "metadata": {},
   "source": [
    "Remove the duplicate links from the copied one and save the links to a file\n"
   ]
  },
  {
   "cell_type": "code",
   "execution_count": 77,
   "metadata": {},
   "outputs": [],
   "source": [
    "links = list(set(links))\n",
    "filenameForStoringList = target+\".csv\"\n",
    "with open(filenameForStoringList, 'w', encoding='UTF8') as f:\n",
    "    writer = csv.writer(f)\n",
    "    writer.writerow(links)"
   ]
  },
  {
   "cell_type": "markdown",
   "metadata": {},
   "source": [
    "Open each post and dnld the img or video\n"
   ]
  },
  {
   "cell_type": "code",
   "execution_count": 87,
   "metadata": {},
   "outputs": [],
   "source": [
    "# define the method to dnld all the files that are collected\n",
    "def dnldAllTheFiles(dnldList):\n",
    "    print(\"Downloading first 50 files\")\n",
    "    for filename in dnldList:\n",
    "        \n",
    "        try:\n",
    "            urllib.request.urlretrieve(dnldList[filename], filename)\n",
    "        except Exception as e:\n",
    "            print(\"some exception url : \", dnldList[filename])\n",
    "            print(e)\n",
    "\n"
   ]
  },
  {
   "cell_type": "code",
   "execution_count": null,
   "metadata": {},
   "outputs": [],
   "source": [
    "dnldList = {}\n",
    "j = 0\n",
    "li = []\n",
    "for link in links:\n",
    "    \n",
    "    browser.get(link)\n",
    "    time.sleep(3)\n",
    "    source = browser.page_source\n",
    "    data=bs4(source, 'html.parser')\n",
    "    body = data.find('body')\n",
    "    \n",
    "    try:\n",
    "        filename = target+\"/\"+str(j)+\".jpg\"\n",
    "        mydiv = body.find(\"img\",  {\"class\": \"x13vifvy\"})\n",
    "        dnldLink = mydiv.get(\"src\")\n",
    "        dnldList[filename] = dnldLink\n",
    "        j = j + 1\n",
    "    except:\n",
    "        print(\"Exception in photo : \", filename)\n",
    "        # working fro video\n",
    "    try:\n",
    "        filename = target+\"/\"+str(j)+\".mp4\"\n",
    "        mydiv = body.find(\"video\", {\"class\": \"x1lliihq\"})\n",
    "        dnldLink = mydiv.get(\"src\")\n",
    "        dnldList[filename] = dnldLink\n",
    "        j = j + 1\n",
    "    except:\n",
    "        print(\"Exception in video : \", filename)\n",
    "    if len(dnldList) == 50:\n",
    "        dnldAllTheFiles(dnldList)\n",
    "        dnldList = {}\n",
    "\n",
    "        \n"
   ]
  },
  {
   "cell_type": "markdown",
   "metadata": {},
   "source": [
    "To like all the post : after having the links to all post, \n"
   ]
  },
  {
   "cell_type": "code",
   "execution_count": null,
   "metadata": {},
   "outputs": [],
   "source": [
    "for link in links[1:]:\n",
    "    browser.get(link)\n",
    "    time.sleep(4) \n",
    "    browser.find_element(By.CLASS_NAME, \"_aamw\").click() # click the like button\n",
    "    "
   ]
  }
 ],
 "metadata": {
  "kernelspec": {
   "display_name": "Python 3.10.8 64-bit",
   "language": "python",
   "name": "python3"
  },
  "language_info": {
   "codemirror_mode": {
    "name": "ipython",
    "version": 3
   },
   "file_extension": ".py",
   "mimetype": "text/x-python",
   "name": "python",
   "nbconvert_exporter": "python",
   "pygments_lexer": "ipython3",
   "version": "3.10.8"
  },
  "vscode": {
   "interpreter": {
    "hash": "b0fa6594d8f4cbf19f97940f81e996739fb7646882a419484c72d19e05852a7e"
   }
  }
 },
 "nbformat": 4,
 "nbformat_minor": 4
}
