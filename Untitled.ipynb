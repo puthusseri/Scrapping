{
 "cells": [
  {
   "cell_type": "code",
   "execution_count": 1,
   "metadata": {},
   "outputs": [],
   "source": [
    "import os\n",
    "import re\n",
    "import requests\n",
    "import json\n",
    "import pandas as pd\n",
    "import numpy as np\n",
    "from selenium import webdriver\n",
    "from bs4 import BeautifulSoup as bs4\n",
    "from urllib.request import urlopen\n",
    "from pandas.io.json import json_normalize\n",
    "import time\n",
    "import urllib"
   ]
  },
  {
   "cell_type": "code",
   "execution_count": 243,
   "metadata": {},
   "outputs": [
    {
     "name": "stdout",
     "output_type": "stream",
     "text": [
      "Scrolling\n"
     ]
    }
   ],
   "source": [
    "#Put the details in the variable\n",
    "username =\"\"\n",
    "passwd = \"\"\n",
    "target = \"\"\n",
    "os.mkdir(target)\n",
    "browser = webdriver.Chrome('./chromedriver')\n",
    "browser.get('https://www.instagram.com/')\n",
    "time.sleep(3)\n",
    "browser.find_element_by_name(\"username\").send_keys(username)\n",
    "browser.find_element_by_name(\"password\").send_keys(passwd)\n",
    "time.sleep(3)\n",
    "browser.find_element_by_css_selector(\".sqdOP.L3NKy.y3zKF\").click()\n",
    "time.sleep(3)\n",
    "browser.find_element_by_css_selector(\".sqdOP.yWX7d.y3zKF\").click()\n",
    "time.sleep(3)\n",
    "browser.find_element_by_css_selector(\".aOOlW.HoLwm\").click()\n",
    "time.sleep(2)\n",
    "browser.get('https://www.instagram.com/'+target)\n",
    "time.sleep(3)\n",
    "last_height = browser.execute_script(\"return document.body.scrollHeight\")\n",
    "print(\"Scrolling\")\n",
    "links=[]\n",
    "while True:\n",
    "    # Scroll down to the bottom.\n",
    "    browser.execute_script(\"window.scrollTo(0, document.body.scrollHeight);\")\n",
    "    # Wait to load the page.\n",
    "    time.sleep(3)\n",
    "    # Calculate new scroll height and compare with last scroll height.\n",
    "    new_height = browser.execute_script(\"return document.body.scrollHeight\")\n",
    "    if new_height == last_height:\n",
    "        break\n",
    "    last_height = new_height\n",
    "    \n",
    "# Finding all the posts in specified user\n",
    "\n",
    "    source = browser.page_source\n",
    "    data=bs4(source, 'html.parser')\n",
    "    body = data.find('body')\n",
    "    mydiv = body.find(\"div\", {\"class\": \"_2z6nI\"})\n",
    "    for link in mydiv.findAll('a'):\n",
    "        if re.match(\"/p\", link.get('href')):\n",
    "            links.append('https://www.instagram.com'+link.get('href'))\n",
    "#Saving the post\n",
    "links = list( dict.fromkeys(links))\n",
    "j = 0\n",
    "for link in links:\n",
    "    j = j + 1\n",
    "    browser.get(link)\n",
    "    time.sleep(3)\n",
    "    source = browser.page_source\n",
    "    data=bs4(source, 'html.parser')\n",
    "    body = data.find('body')\n",
    "    \n",
    "    try:\n",
    "        filename = target+\"/\"+str(j)+\".jpg\"\n",
    "        mydiv = body.find(\"img\", {\"class\": \"FFVAD\"})\n",
    "        s = str(mydiv)\n",
    "        a = re.findall('https(.+)1080w',s)\n",
    "        st = str(a).split(\",\")[2]\n",
    "        link = st[:len(st)-3]\n",
    "        link = link.replace(\"&amp;\",\"&\")\n",
    "    except:\n",
    "        filename = target+\"/\"+str(j)+\".mp4\"\n",
    "        mydiv = body.find(\"video\", {\"class\": \"tWeCl\"})\n",
    "        s = str(mydiv)\n",
    "        a = re.findall('https(.+)\" ',s)\n",
    "        a = str(a).split('src=\"')[1]\n",
    "        a = a[:len(a)-2]\n",
    "        a = a.replace(\"&amp;\",\"&\")\n",
    "        \n",
    "    urllib.request.urlretrieve(link, filename)\n",
    "print(\"Number of post save : \",j)"
   ]
  }
 ],
 "metadata": {
  "kernelspec": {
   "display_name": "Python 3",
   "language": "python",
   "name": "python3"
  },
  "language_info": {
   "codemirror_mode": {
    "name": "ipython",
    "version": 3
   },
   "file_extension": ".py",
   "mimetype": "text/x-python",
   "name": "python",
   "nbconvert_exporter": "python",
   "pygments_lexer": "ipython3",
   "version": "3.5.6"
  }
 },
 "nbformat": 4,
 "nbformat_minor": 4
}
